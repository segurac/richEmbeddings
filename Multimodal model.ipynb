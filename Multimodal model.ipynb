{
 "cells": [
  {
   "cell_type": "code",
   "execution_count": null,
   "metadata": {},
   "outputs": [],
   "source": [
    "%load_ext autoreload\n",
    "%autoreload 2\n",
    "import torch\n",
    "from models.multimodal import load_data\n",
    "import torch.utils.data as data\n",
    "import torchvision.transforms as transforms\n",
    "torch.multiprocessing.set_sharing_strategy('file_system')\n",
    "import pickle"
   ]
  },
  {
   "cell_type": "code",
   "execution_count": null,
   "metadata": {},
   "outputs": [],
   "source": [
    "reader = load_data.MultimodalReader(\n",
    "    '/disks/sdb1-3T/exportNFS/Databases/jobScreening_cvpr17/train/annotation_training.pkl', \n",
    "    '/disks/sdb1-3T/exportNFS/Databases/jobScreening_cvpr17/train/transcripts/ctms', \n",
    "    '/disks/sdb1-3T/exportNFS/Databases/jobScreening_cvpr17/train/audios/fbank', \n",
    "    '/disks/sdb1-3T/exportNFS/csp/jobScreening_cvpr17/train/faces2/')  \n",
    "                          "
   ]
  },
  {
   "cell_type": "code",
   "execution_count": null,
   "metadata": {},
   "outputs": [],
   "source": [
    "normalize = transforms.Normalize(mean=[0.485, 0.456, 0.406], std=[0.229, 0.224, 0.225])\n",
    "reader2 = load_data.MultimodalReader(\n",
    "    '/disks/sdb1-3T/exportNFS/Databases/jobScreening_cvpr17/train/annotation_training.pkl', \n",
    "    '/disks/sdb1-3T/exportNFS/Databases/jobScreening_cvpr17/train/transcripts/ctms', \n",
    "    '/disks/sdb1-3T/exportNFS/Databases/jobScreening_cvpr17/train/audios/fbank', \n",
    "    '/disks/sdb1-3T/exportNFS/csp/jobScreening_cvpr17/train/faces2/',\n",
    "    transform=transforms.Compose([\n",
    "                             transforms.Scale(240),\n",
    "                             transforms.RandomSizedCrop(224),\n",
    "                             transforms.RandomHorizontalFlip(),\n",
    "                             transforms.ToTensor(),\n",
    "                             normalize,\n",
    "                         ]))"
   ]
  },
  {
   "cell_type": "code",
   "execution_count": null,
   "metadata": {
    "collapsed": true
   },
   "outputs": [],
   "source": [
    "train_loader_bad = data.DataLoader(\n",
    "        reader, \n",
    "        batch_size=1, shuffle=True, num_workers=4)\n",
    "\n",
    "\n"
   ]
  },
  {
   "cell_type": "code",
   "execution_count": null,
   "metadata": {
    "collapsed": true
   },
   "outputs": [],
   "source": [
    "def my_collate2(batch):\n",
    "    return batch"
   ]
  },
  {
   "cell_type": "code",
   "execution_count": null,
   "metadata": {},
   "outputs": [],
   "source": [
    "%reset_selective train_loader\n",
    "train_loader = data.DataLoader(\n",
    "    reader2,\n",
    "    batch_size=4,\n",
    "    shuffle=True,\n",
    "    num_workers=1,\n",
    "    pin_memory=False, collate_fn=my_collate2)"
   ]
  },
  {
   "cell_type": "code",
   "execution_count": null,
   "metadata": {},
   "outputs": [],
   "source": [
    "for mydata in train_loader:\n",
    "    break"
   ]
  },
  {
   "cell_type": "code",
   "execution_count": null,
   "metadata": {},
   "outputs": [],
   "source": [
    "print(len(mydata))\n",
    "\n",
    "with open('serialized_loaded_data.pickle','wb') as stream:\n",
    "    pickle.dump(mydata,stream)"
   ]
  },
  {
   "cell_type": "code",
   "execution_count": null,
   "metadata": {},
   "outputs": [],
   "source": [
    "my_collate = load_data.my_collate\n",
    "what = my_collate(mydata)"
   ]
  },
  {
   "cell_type": "code",
   "execution_count": null,
   "metadata": {},
   "outputs": [],
   "source": [
    "what[0].size()"
   ]
  }
 ],
 "metadata": {
  "kernelspec": {
   "display_name": "Python 3",
   "language": "python",
   "name": "python3"
  },
  "language_info": {
   "codemirror_mode": {
    "name": "ipython",
    "version": 3
   },
   "file_extension": ".py",
   "mimetype": "text/x-python",
   "name": "python",
   "nbconvert_exporter": "python",
   "pygments_lexer": "ipython3",
   "version": "3.5.3"
  }
 },
 "nbformat": 4,
 "nbformat_minor": 2
}
